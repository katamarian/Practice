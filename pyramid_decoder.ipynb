{
 "cells": [
  {
   "cell_type": "code",
   "execution_count": 1,
   "id": "42df6fdb",
   "metadata": {},
   "outputs": [],
   "source": [
    "import pandas as pd"
   ]
  },
  {
   "cell_type": "code",
   "execution_count": 2,
   "id": "44d1d32d",
   "metadata": {},
   "outputs": [],
   "source": [
    "with open('coding_qual_input.txt', 'r') as file:\n",
    "    lines = file.readlines()"
   ]
  },
  {
   "cell_type": "code",
   "execution_count": 3,
   "id": "a8c7b26a",
   "metadata": {},
   "outputs": [],
   "source": [
    "numbers = []\n",
    "words = []"
   ]
  },
  {
   "cell_type": "code",
   "execution_count": 4,
   "id": "3de86f9e",
   "metadata": {},
   "outputs": [],
   "source": [
    "for line in lines:\n",
    "    parts = line.split()\n",
    "    number = int(parts[0])\n",
    "    word = parts[1]\n",
    "    \n",
    "    numbers.append(number)\n",
    "    words.append(word)"
   ]
  },
  {
   "cell_type": "code",
   "execution_count": 5,
   "id": "47c71222",
   "metadata": {},
   "outputs": [],
   "source": [
    "df = pd.DataFrame({\"Number\": numbers, \"Word\": words})"
   ]
  },
  {
   "cell_type": "code",
   "execution_count": 6,
   "id": "98978bfc",
   "metadata": {},
   "outputs": [
    {
     "name": "stdout",
     "output_type": "stream",
     "text": [
      "   Number  Word\n",
      "0     296  land\n",
      "1       3   sun\n",
      "2     216   too\n",
      "3     197  huge\n",
      "4     237  dont\n"
     ]
    }
   ],
   "source": [
    "print(df.head())"
   ]
  },
  {
   "cell_type": "code",
   "execution_count": null,
   "id": "37df37a1",
   "metadata": {},
   "outputs": [],
   "source": []
  }
 ],
 "metadata": {
  "kernelspec": {
   "display_name": "Python 3 (ipykernel)",
   "language": "python",
   "name": "python3"
  },
  "language_info": {
   "codemirror_mode": {
    "name": "ipython",
    "version": 3
   },
   "file_extension": ".py",
   "mimetype": "text/x-python",
   "name": "python",
   "nbconvert_exporter": "python",
   "pygments_lexer": "ipython3",
   "version": "3.9.18"
  }
 },
 "nbformat": 4,
 "nbformat_minor": 5
}
