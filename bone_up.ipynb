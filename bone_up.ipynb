{
 "cells": [
  {
   "cell_type": "code",
   "execution_count": null,
   "id": "f4b4ff92",
   "metadata": {},
   "outputs": [],
   "source": [

    "# They call me zesty 'cuz James Charles is my bestie!\n",
    "import pandas as pd\n",
    "import numpy as np\n",
    "import string\n",
    "import statsmodels.api as sm\n",
    "import matplotlib.pyplot as plt"
   ]
  },
  {
   "cell_type": "code",
   "execution_count": 3,
   "id": "20da74d3",
   "metadata": {},
   "outputs": [],
   "source": [
    "exam_data = {'name': ['Anastasia', 'Dima', 'Katherine', 'James', 'Emily', 'Michael', 'Matthew', 'Laura', 'Kevin', 'Jonas'],\n",
    "'score': [12.5, 9, 16.5, np.nan, 9, 20, 14.5, np.nan, 8, 19],\n",
    "'attempts': [1, 3, 2, 3, 2, 3, 1, 1, 2, 1],\n",
    "'qualify': ['yes', 'no', 'yes', 'no', 'no', 'yes', 'yes', 'no', 'no', 'yes']}\n",
    "labels = ['a', 'b', 'c', 'd', 'e', 'f', 'g', 'h', 'i', 'j']"
   ]
  },
  {
   "cell_type": "code",
   "execution_count": 4,
   "id": "ac5b7f63",
   "metadata": {},
   "outputs": [],
   "source": [
    "df = pd.DataFrame(exam_data, index = labels)"
   ]
  },
  {
   "cell_type": "code",
   "execution_count": 5,
   "id": "9d0dd552",
   "metadata": {},
   "outputs": [],
   "source": [
    "def_bet = df[(df['attempts'] > 1) & (df['score'] > 15)]"
   ]
  },
  {
   "cell_type": "code",
   "execution_count": 6,
   "id": "4b82d7a8",
   "metadata": {},
   "outputs": [
    {
     "name": "stdout",
     "output_type": "stream",
     "text": [
      "        name  score  attempts qualify\n",
      "c  Katherine   16.5         2     yes\n",
      "f    Michael   20.0         3     yes\n"
     ]
    }
   ],
   "source": [
    "print(def_bet.head())"
   ]
  },
  {
   "cell_type": "code",
   "execution_count": 7,
   "id": "ca6727cb",
   "metadata": {},
   "outputs": [],
   "source": [
    "df_two = df[['name', 'score']]"
   ]
  },
  {
   "cell_type": "code",
   "execution_count": 8,
   "id": "08edd7f5",
   "metadata": {},
   "outputs": [
    {
     "name": "stdout",
     "output_type": "stream",
     "text": [
      "        name  score\n",
      "a  Anastasia   12.5\n",
      "b       Dima    9.0\n",
      "c  Katherine   16.5\n",
      "d      James    NaN\n",
      "e      Emily    9.0\n"
     ]
    }
   ],
   "source": [
    "print(df_two.head())"
   ]
  },
  {
   "cell_type": "code",
   "execution_count": 9,
   "id": "c6bddd4c",
   "metadata": {},
   "outputs": [],
   "source": [
    "def select(name1, name2, df_o):\n",
    "    df_s = df_o[[name1, name2]]\n",
    "    return df_s"
   ]
  },
  {
   "cell_type": "code",
   "execution_count": 10,
   "id": "90e8b609",
   "metadata": {},
   "outputs": [],
   "source": [
    "df_selected = select('attempts', 'score', df)"
   ]
  },
  {
   "cell_type": "code",
   "execution_count": 11,
   "id": "7c54dec1",
   "metadata": {},
   "outputs": [
    {
     "name": "stdout",
     "output_type": "stream",
     "text": [
      "   attempts  score\n",
      "a         1   12.5\n",
      "b         3    9.0\n",
      "c         2   16.5\n",
      "d         3    NaN\n",
      "e         2    9.0\n"
     ]
    }
   ],
   "source": [
    "print(df_selected.head())"
   ]
  },
  {
   "cell_type": "code",
   "execution_count": 12,
   "id": "e2787e35",
   "metadata": {},
   "outputs": [],
   "source": [
    "df_higher_2 = df[df['attempts'] > 2]"
   ]
  },
  {
   "cell_type": "code",
   "execution_count": 13,
   "id": "7061a51c",
   "metadata": {},
   "outputs": [
    {
     "name": "stdout",
     "output_type": "stream",
     "text": [
      "      name  score  attempts qualify\n",
      "b     Dima    9.0         3      no\n",
      "d    James    NaN         3      no\n",
      "f  Michael   20.0         3     yes\n"
     ]
    }
   ],
   "source": [
    "print(df_higher_2.head())"
   ]
  },
  {
   "cell_type": "code",
   "execution_count": 14,
   "id": "e7029108",
   "metadata": {},
   "outputs": [
    {
     "name": "stdout",
     "output_type": "stream",
     "text": [
      "10\n",
      "4\n"
     ]
    }
   ],
   "source": [
    "print(len(df.axes[0]))\n",
    "print(len(df.axes[1]))"
   ]
  },
  {
   "cell_type": "code",
   "execution_count": 15,
   "id": "7a193761",
   "metadata": {},
   "outputs": [],
   "source": [
    "df_na = df[df['score'].isna()]"
   ]
  },
  {
   "cell_type": "code",
   "execution_count": 16,
   "id": "a2585197",
   "metadata": {},
   "outputs": [
    {
     "name": "stdout",
     "output_type": "stream",
     "text": [
      "    name  score  attempts qualify\n",
      "d  James    NaN         3      no\n",
      "h  Laura    NaN         1      no\n"
     ]
    }
   ],
   "source": [
    "print(df_na.head())"
   ]
  },
  {
   "cell_type": "code",
   "execution_count": 17,
   "id": "6b7c9d23",
   "metadata": {},
   "outputs": [],
   "source": [
    "df_15_20 = df[(df['score'] > 15) & (df['score'] < 20)]"
   ]
  },
  {
   "cell_type": "code",
   "execution_count": 18,
   "id": "34c42028",
   "metadata": {},
   "outputs": [
    {
     "name": "stdout",
     "output_type": "stream",
     "text": [
      "        name  score  attempts qualify\n",
      "c  Katherine   16.5         2     yes\n",
      "j      Jonas   19.0         1     yes\n"
     ]
    }
   ],
   "source": [
    "print(df_15_20.head())"
   ]
  },
  {
   "cell_type": "code",
   "execution_count": 19,
   "id": "c32f9930",
   "metadata": {},
   "outputs": [],
   "source": [
    "df_between = df[3:]"
   ]
  },
  {
   "cell_type": "code",
   "execution_count": 20,
   "id": "e6c1cf93",
   "metadata": {},
   "outputs": [
    {
     "name": "stdout",
     "output_type": "stream",
     "text": [
      "      name  score  attempts qualify\n",
      "d    James    NaN         3      no\n",
      "e    Emily    9.0         2      no\n",
      "f  Michael   20.0         3     yes\n",
      "g  Matthew   14.5         1     yes\n",
      "h    Laura    NaN         1      no\n"
     ]
    }
   ],
   "source": [
    "print(df_between.head())"
   ]
  },
  {
   "cell_type": "code",
   "execution_count": 21,
   "id": "4bcf8ac8",
   "metadata": {},
   "outputs": [],
   "source": [
    "df.loc['d', 'score'] = 11.5"
   ]
  },
  {
   "cell_type": "code",
   "execution_count": 22,
   "id": "95299e30",
   "metadata": {},
   "outputs": [
    {
     "name": "stdout",
     "output_type": "stream",
     "text": [
      "        name  score  attempts qualify\n",
      "a  Anastasia   12.5         1     yes\n",
      "b       Dima    9.0         3      no\n",
      "c  Katherine   16.5         2     yes\n",
      "d      James   11.5         3      no\n",
      "e      Emily    9.0         2      no\n"
     ]
    }
   ],
   "source": [
    "print(df.head())"
   ]
  },
  {
   "cell_type": "code",
   "execution_count": 23,
   "id": "2f7461f2",
   "metadata": {},
   "outputs": [
    {
     "data": {
      "text/plain": [
       "19"
      ]
     },
     "execution_count": 23,
     "metadata": {},
     "output_type": "execute_result"
    }
   ],
   "source": [
    "attempt_total = df['attempts'].sum()\n",
    "attempt_total"
   ]
  },
  {
   "cell_type": "code",
   "execution_count": 24,
   "id": "57400467",
   "metadata": {},
   "outputs": [
    {
     "data": {
      "text/plain": [
       "13.333333333333334"
      ]
     },
     "execution_count": 24,
     "metadata": {},
     "output_type": "execute_result"
    }
   ],
   "source": [
    "score_mean = df['score'].mean()\n",
    "score_mean"
   ]
  },
  {
   "cell_type": "code",
   "execution_count": 25,
   "id": "f069ab4a",
   "metadata": {},
   "outputs": [],
   "source": [
    "df.loc['k'] = ['Suresh', 11.5, 1, 'yes']"
   ]
  },
  {
   "cell_type": "code",
   "execution_count": 26,
   "id": "50da993b",
   "metadata": {},
   "outputs": [
    {
     "name": "stdout",
     "output_type": "stream",
     "text": [
      "        name  score  attempts qualify\n",
      "a  Anastasia   12.5         1     yes\n",
      "b       Dima    9.0         3      no\n",
      "c  Katherine   16.5         2     yes\n",
      "d      James   11.5         3      no\n",
      "e      Emily    9.0         2      no\n",
      "f    Michael   20.0         3     yes\n",
      "g    Matthew   14.5         1     yes\n",
      "h      Laura    NaN         1      no\n",
      "i      Kevin    8.0         2      no\n",
      "j      Jonas   19.0         1     yes\n",
      "k     Suresh   11.5         1     yes\n"
     ]
    }
   ],
   "source": [
    "print(df)"
   ]
  },
  {
   "cell_type": "code",
   "execution_count": 27,
   "id": "3627d08e",
   "metadata": {},
   "outputs": [],
   "source": [
    "df['qualify'] = df['qualify'].map({'yes': True, 'no': False})"
   ]
  },
  {
   "cell_type": "code",
   "execution_count": 28,
   "id": "50bce5d4",
   "metadata": {},
   "outputs": [
    {
     "name": "stdout",
     "output_type": "stream",
     "text": [
      "        name  score  attempts  qualify\n",
      "a  Anastasia   12.5         1     True\n",
      "b       Dima    9.0         3    False\n",
      "c  Katherine   16.5         2     True\n",
      "d      James   11.5         3    False\n",
      "e      Emily    9.0         2    False\n",
      "f    Michael   20.0         3     True\n",
      "g    Matthew   14.5         1     True\n",
      "h      Laura    NaN         1    False\n",
      "i      Kevin    8.0         2    False\n",
      "j      Jonas   19.0         1     True\n",
      "k     Suresh   11.5         1     True\n"
     ]
    }
   ],
   "source": [
    "print(df)"
   ]
  },
  {
   "cell_type": "code",
   "execution_count": 29,
   "id": "0d29db13",
   "metadata": {},
   "outputs": [],
   "source": [
    "df['color'] = 'red'"
   ]
  },
  {
   "cell_type": "code",
   "execution_count": 30,
   "id": "9f596bf9",
   "metadata": {},
   "outputs": [
    {
     "name": "stdout",
     "output_type": "stream",
     "text": [
      "        name  score  attempts  qualify color\n",
      "a  Anastasia   12.5         1     True   red\n",
      "b       Dima    9.0         3    False   red\n",
      "c  Katherine   16.5         2     True   red\n",
      "d      James   11.5         3    False   red\n",
      "e      Emily    9.0         2    False   red\n",
      "f    Michael   20.0         3     True   red\n",
      "g    Matthew   14.5         1     True   red\n",
      "h      Laura    NaN         1    False   red\n",
      "i      Kevin    8.0         2    False   red\n",
      "j      Jonas   19.0         1     True   red\n",
      "k     Suresh   11.5         1     True   red\n"
     ]
    }
   ],
   "source": [
    "print(df)"
   ]
  },
  {
   "cell_type": "code",
   "execution_count": 31,
   "id": "34b27329",
   "metadata": {},
   "outputs": [],
   "source": [
    "def has_letter(s, l):\n",
    "    series = pd.Series(list(s), name = 'Character')\n",
    "    character_counts = series.value_counts()\n",
    "    # print(character_counts)\n",
    "    return character_counts.get(l, 0) != 0"
   ]
  },
  {
   "cell_type": "code",
   "execution_count": 32,
   "id": "cc8290d2",
   "metadata": {},
   "outputs": [
    {
     "data": {
      "text/plain": [
       "False"
      ]
     },
     "execution_count": 32,
     "metadata": {},
     "output_type": "execute_result"
    }
   ],
   "source": [
    "has_letter('jacob', 'M')"
   ]
  },
  {
   "cell_type": "code",
   "execution_count": 33,
   "id": "abb4099c",
   "metadata": {},
   "outputs": [],
   "source": [
    "df['contains j'] = df['name'].apply(lambda x: has_letter(x, 'a'))"
   ]
  },
  {
   "cell_type": "code",
   "execution_count": 34,
   "id": "4e2fedbe",
   "metadata": {},
   "outputs": [
    {
     "name": "stdout",
     "output_type": "stream",
     "text": [
      "        name  score  attempts  qualify color  contains j\n",
      "a  Anastasia   12.5         1     True   red        True\n",
      "b       Dima    9.0         3    False   red        True\n",
      "c  Katherine   16.5         2     True   red        True\n",
      "d      James   11.5         3    False   red        True\n",
      "e      Emily    9.0         2    False   red       False\n",
      "f    Michael   20.0         3     True   red        True\n",
      "g    Matthew   14.5         1     True   red        True\n",
      "h      Laura    NaN         1    False   red        True\n",
      "i      Kevin    8.0         2    False   red       False\n",
      "j      Jonas   19.0         1     True   red        True\n",
      "k     Suresh   11.5         1     True   red       False\n"
     ]
    }
   ],
   "source": [
    "print(df)"
   ]
  },
  {
   "cell_type": "code",
   "execution_count": 35,
   "id": "84eff229",
   "metadata": {},
   "outputs": [],
   "source": [
    "# Example data\n",
    "np.random.seed(123)\n",
    "x = np.random.rand(100, 1)\n",
    "y = 2 * x[:, 0] + 0.5 * np.random.randn(100)"
   ]
  },
  {
   "cell_type": "code",
   "execution_count": 36,
   "id": "4ab9d7a5",
   "metadata": {},
   "outputs": [],
   "source": [
    "x = sm.add_constant(x)"
   ]
  },
  {
   "cell_type": "code",
   "execution_count": 37,
   "id": "48dccece",
   "metadata": {},
   "outputs": [],
   "source": [
    "model = sm.OLS(y, x)"
   ]
  },
  {
   "cell_type": "code",
   "execution_count": 38,
   "id": "e0b423d3",
   "metadata": {},
   "outputs": [],
   "source": [
    "results = model.fit()"
   ]
  },
  {
   "cell_type": "code",
   "execution_count": 39,
   "id": "4c7978e0",
   "metadata": {},
   "outputs": [
    {
     "data": {
      "text/plain": [
       "<matplotlib.legend.Legend at 0x20348b99340>"
      ]
     },
     "execution_count": 39,
     "metadata": {},
     "output_type": "execute_result"
    },
    {
     "data": {
      "image/png": "[encoded data removed]",
      "text/plain": [
       "<Figure size 640x480 with 1 Axes>"
      ]
     },
     "metadata": {},
     "output_type": "display_data"
    }
   ],
   "source": [
    "plt.scatter(x[:, 1], y, color = 'blue', label = 'Data')\n",
    "plt.plot(x[:, 1], results.predict(x), color = 'red', label = 'Regression')\n",
    "\n",
    "plt.title('Regression data + line')\n",
    "plt.xlabel('x')\n",
    "plt.ylabel('y')\n",
    "plt.legend()"
   ]
  },
  {
   "cell_type": "code",
   "execution_count": 40,
   "id": "3cb601d8",
   "metadata": {},
   "outputs": [],
   "source": [
    "np.random.seed(42)\n",
    "n_samples = 100\n",
    "bedrooms = np.random.randint(2, 5, n_samples)\n",
    "square_footage = np.random.randint(1000, 2500, n_samples)\n",
    "crime_rate = np.random.uniform(0, 1, n_samples)\n",
    "price = 50000 + 200 * bedrooms + 50 * square_footage - 300 * crime_rate + np.random.normal(0, 10000, n_samples)"
   ]
  },
  {
   "cell_type": "code",
   "execution_count": 41,
   "id": "d250ec62",
   "metadata": {},
   "outputs": [],
   "source": [
    "house_price = pd.DataFrame({'Bedrooms': bedrooms, 'squareFootage': square_footage, 'crimeRate': crime_rate, 'Price': price})"
   ]
  },
  {
   "cell_type": "code",
   "execution_count": 42,
   "id": "c8167def",
   "metadata": {},
   "outputs": [],
   "source": [
    "X = house_price[['Bedrooms', 'squareFootage', 'crimeRate']]\n",
    "y = house_price['Price']"
   ]
  },
  {
   "cell_type": "code",
   "execution_count": 43,
   "id": "ccf49216",
   "metadata": {},
   "outputs": [],
   "source": [
    "X = sm.add_constant(X)"
   ]
  },
  {
   "cell_type": "code",
   "execution_count": 44,
   "id": "141fbc6d",
   "metadata": {},
   "outputs": [],
   "source": [
    "scatter_feature = 'squareFootage'\n",
    "model = sm.OLS(y, X)"
   ]
  },
  {
   "cell_type": "code",
   "execution_count": 45,
   "id": "5873e6fe",
   "metadata": {},
   "outputs": [
    {
     "name": "stdout",
     "output_type": "stream",
     "text": [
      "                            OLS Regression Results                            \n",
      "==============================================================================\n",
      "Dep. Variable:                  Price   R-squared:                       0.813\n",
      "Model:                            OLS   Adj. R-squared:                  0.807\n",
      "Method:                 Least Squares   F-statistic:                     139.4\n",
      "Date:                Sat, 06 Jan 2024   Prob (F-statistic):           7.34e-35\n",
      "Time:                        18:31:25   Log-Likelihood:                -1061.8\n",
      "No. Observations:                 100   AIC:                             2132.\n",
      "Df Residuals:                      96   BIC:                             2142.\n",
      "Df Model:                           3                                         \n",
      "Covariance Type:            nonrobust                                         \n",
      "=================================================================================\n",
      "                    coef    std err          t      P>|t|      [0.025      0.975]\n",
      "---------------------------------------------------------------------------------\n",
      "const          4.771e+04   7121.707      6.699      0.000    3.36e+04    6.18e+04\n",
      "Bedrooms        181.9803   1300.790      0.140      0.889   -2400.068    2764.028\n",
      "squareFootage    50.6960      2.542     19.944      0.000      45.650      55.742\n",
      "crimeRate      5439.8758   3483.700      1.562      0.122   -1475.215    1.24e+04\n",
      "==============================================================================\n",
      "Omnibus:                        1.976   Durbin-Watson:                   1.963\n",
      "Prob(Omnibus):                  0.372   Jarque-Bera (JB):                1.428\n",
      "Skew:                          -0.023   Prob(JB):                        0.490\n",
      "Kurtosis:                       2.416   Cond. No.                     1.38e+04\n",
      "==============================================================================\n",
      "\n",
      "Notes:\n",
      "[1] Standard Errors assume that the covariance matrix of the errors is correctly specified.\n",
      "[2] The condition number is large, 1.38e+04. This might indicate that there are\n",
      "strong multicollinearity or other numerical problems.\n"
     ]
    }
   ],
   "source": [
    "results = model.fit()\n",
    "print(results.summary())"
   ]
  },
  {
   "cell_type": "code",
   "execution_count": 46,
   "id": "2292e8ab",
   "metadata": {},
   "outputs": [
    {
     "data": {
      "text/plain": [
       "[<matplotlib.lines.Line2D at 0x20348c2c9d0>]"
      ]
     },
     "execution_count": 46,
     "metadata": {},
     "output_type": "execute_result"
    },
    {
     "data": {
      "image/png": "[encoded data removed]",
      "text/plain": [
       "<Figure size 640x480 with 1 Axes>"
      ]
     },
     "metadata": {},
     "output_type": "display_data"
    }
   ],
   "source": [
    "x_sorted = X[scatter_feature].sort_values()\n",
    "plt.scatter(X[scatter_feature], y, color = 'blue', label = 'Data')\n",
    "plt.plot(x_sorted, results.predict(X.loc[x_sorted.index]), color = 'red', label = 'Reg Line')"
   ]
  },
  {
   "cell_type": "code",
   "execution_count": 47,
   "id": "42fb8ffa",
   "metadata": {},
   "outputs": [],
   "source": [
    "np.random.seed(42)\n",
    "x = np.random.rand(100, 1)\n",
    "y = 2 * x[:, 0] + 0.5 * np.random.randn(100)"
   ]
  },
  {
   "cell_type": "code",
   "execution_count": 48,
   "id": "9179e826",
   "metadata": {},
   "outputs": [],
   "source": [
    "x = sm.add_constant(x)"
   ]
  },
  {
   "cell_type": "code",
   "execution_count": 49,
   "id": "395b5fac",
   "metadata": {},
   "outputs": [],
   "source": [
    "model = sm.OLS(y, x)\n",
    "results = model.fit()"
   ]
  },
  {
   "cell_type": "code",
   "execution_count": 50,
   "id": "c718ee29",
   "metadata": {},
   "outputs": [
    {
     "data": {
      "text/plain": [
       "[<matplotlib.lines.Line2D at 0x20348cb4790>]"
      ]
     },
     "execution_count": 50,
     "metadata": {},
     "output_type": "execute_result"
    },
    {
     "data": {
      "image/png": "[encoded data removed]",
      "text/plain": [
       "<Figure size 640x480 with 1 Axes>"
      ]
     },
     "metadata": {},
     "output_type": "display_data"
    }
   ],
   "source": [
    "plt.scatter(x[:, 1], y, color = 'blue', label = 'Data')\n",
    "plt.plot(x[:, 1], results.predict(x), color = 'red', label = 'line')"
   ]
  },
  {
   "cell_type": "code",
   "execution_count": null,
   "id": "ace4c502",
   "metadata": {},
   "outputs": [],
   "source": []
  }
 ],
 "metadata": {
  "kernelspec": {
   "display_name": "Python 3 (ipykernel)",
   "language": "python",
   "name": "python3"
  },
  "language_info": {
   "codemirror_mode": {
    "name": "ipython",
    "version": 3
   },
   "file_extension": ".py",
   "mimetype": "text/x-python",
   "name": "python",
   "nbconvert_exporter": "python",
   "pygments_lexer": "ipython3",
   "version": "3.9.18"
  }
 },
 "nbformat": 4,
 "nbformat_minor": 5
}
